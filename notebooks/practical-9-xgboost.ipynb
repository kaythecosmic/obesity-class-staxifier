{
 "cells": [
  {
   "cell_type": "markdown",
   "id": "56ad7eca",
   "metadata": {
    "papermill": {
     "duration": 0.008529,
     "end_time": "2024-04-14T06:30:44.218301",
     "exception": false,
     "start_time": "2024-04-14T06:30:44.209772",
     "status": "completed"
    },
    "tags": []
   },
   "source": [
    "## **Kernel SVM Classification with XGBoost**"
   ]
  },
  {
   "cell_type": "markdown",
   "id": "5871d46b",
   "metadata": {
    "papermill": {
     "duration": 0.007753,
     "end_time": "2024-04-14T06:30:44.234147",
     "exception": false,
     "start_time": "2024-04-14T06:30:44.226394",
     "status": "completed"
    },
    "tags": []
   },
   "source": [
    "##### Importing the Dataset"
   ]
  },
  {
   "cell_type": "code",
   "execution_count": 1,
   "id": "b3324f91",
   "metadata": {
    "execution": {
     "iopub.execute_input": "2024-04-14T06:30:44.252342Z",
     "iopub.status.busy": "2024-04-14T06:30:44.251573Z",
     "iopub.status.idle": "2024-04-14T06:30:45.450524Z",
     "shell.execute_reply": "2024-04-14T06:30:45.449339Z"
    },
    "papermill": {
     "duration": 1.211226,
     "end_time": "2024-04-14T06:30:45.453415",
     "exception": false,
     "start_time": "2024-04-14T06:30:44.242189",
     "status": "completed"
    },
    "tags": []
   },
   "outputs": [
    {
     "data": {
      "text/html": [
       "<div>\n",
       "<style scoped>\n",
       "    .dataframe tbody tr th:only-of-type {\n",
       "        vertical-align: middle;\n",
       "    }\n",
       "\n",
       "    .dataframe tbody tr th {\n",
       "        vertical-align: top;\n",
       "    }\n",
       "\n",
       "    .dataframe thead th {\n",
       "        text-align: right;\n",
       "    }\n",
       "</style>\n",
       "<table border=\"1\" class=\"dataframe\">\n",
       "  <thead>\n",
       "    <tr style=\"text-align: right;\">\n",
       "      <th></th>\n",
       "      <th>Area</th>\n",
       "      <th>Perimeter</th>\n",
       "      <th>MajorAxisLength</th>\n",
       "      <th>MinorAxisLength</th>\n",
       "      <th>AspectRation</th>\n",
       "      <th>Eccentricity</th>\n",
       "      <th>ConvexArea</th>\n",
       "      <th>EquivDiameter</th>\n",
       "      <th>Extent</th>\n",
       "      <th>Solidity</th>\n",
       "      <th>roundness</th>\n",
       "      <th>Compactness</th>\n",
       "      <th>ShapeFactor1</th>\n",
       "      <th>ShapeFactor2</th>\n",
       "      <th>ShapeFactor3</th>\n",
       "      <th>ShapeFactor4</th>\n",
       "      <th>Class</th>\n",
       "    </tr>\n",
       "  </thead>\n",
       "  <tbody>\n",
       "    <tr>\n",
       "      <th>0</th>\n",
       "      <td>28395</td>\n",
       "      <td>610.291</td>\n",
       "      <td>208.178117</td>\n",
       "      <td>173.888747</td>\n",
       "      <td>1.197191</td>\n",
       "      <td>0.549812</td>\n",
       "      <td>28715</td>\n",
       "      <td>190.141097</td>\n",
       "      <td>0.763923</td>\n",
       "      <td>0.988856</td>\n",
       "      <td>0.958027</td>\n",
       "      <td>0.913358</td>\n",
       "      <td>0.007332</td>\n",
       "      <td>0.003147</td>\n",
       "      <td>0.834222</td>\n",
       "      <td>0.998724</td>\n",
       "      <td>SEKER</td>\n",
       "    </tr>\n",
       "    <tr>\n",
       "      <th>1</th>\n",
       "      <td>28734</td>\n",
       "      <td>638.018</td>\n",
       "      <td>200.524796</td>\n",
       "      <td>182.734419</td>\n",
       "      <td>1.097356</td>\n",
       "      <td>0.411785</td>\n",
       "      <td>29172</td>\n",
       "      <td>191.272751</td>\n",
       "      <td>0.783968</td>\n",
       "      <td>0.984986</td>\n",
       "      <td>0.887034</td>\n",
       "      <td>0.953861</td>\n",
       "      <td>0.006979</td>\n",
       "      <td>0.003564</td>\n",
       "      <td>0.909851</td>\n",
       "      <td>0.998430</td>\n",
       "      <td>SEKER</td>\n",
       "    </tr>\n",
       "    <tr>\n",
       "      <th>2</th>\n",
       "      <td>29380</td>\n",
       "      <td>624.110</td>\n",
       "      <td>212.826130</td>\n",
       "      <td>175.931143</td>\n",
       "      <td>1.209713</td>\n",
       "      <td>0.562727</td>\n",
       "      <td>29690</td>\n",
       "      <td>193.410904</td>\n",
       "      <td>0.778113</td>\n",
       "      <td>0.989559</td>\n",
       "      <td>0.947849</td>\n",
       "      <td>0.908774</td>\n",
       "      <td>0.007244</td>\n",
       "      <td>0.003048</td>\n",
       "      <td>0.825871</td>\n",
       "      <td>0.999066</td>\n",
       "      <td>SEKER</td>\n",
       "    </tr>\n",
       "    <tr>\n",
       "      <th>3</th>\n",
       "      <td>30008</td>\n",
       "      <td>645.884</td>\n",
       "      <td>210.557999</td>\n",
       "      <td>182.516516</td>\n",
       "      <td>1.153638</td>\n",
       "      <td>0.498616</td>\n",
       "      <td>30724</td>\n",
       "      <td>195.467062</td>\n",
       "      <td>0.782681</td>\n",
       "      <td>0.976696</td>\n",
       "      <td>0.903936</td>\n",
       "      <td>0.928329</td>\n",
       "      <td>0.007017</td>\n",
       "      <td>0.003215</td>\n",
       "      <td>0.861794</td>\n",
       "      <td>0.994199</td>\n",
       "      <td>SEKER</td>\n",
       "    </tr>\n",
       "    <tr>\n",
       "      <th>4</th>\n",
       "      <td>30140</td>\n",
       "      <td>620.134</td>\n",
       "      <td>201.847882</td>\n",
       "      <td>190.279279</td>\n",
       "      <td>1.060798</td>\n",
       "      <td>0.333680</td>\n",
       "      <td>30417</td>\n",
       "      <td>195.896503</td>\n",
       "      <td>0.773098</td>\n",
       "      <td>0.990893</td>\n",
       "      <td>0.984877</td>\n",
       "      <td>0.970516</td>\n",
       "      <td>0.006697</td>\n",
       "      <td>0.003665</td>\n",
       "      <td>0.941900</td>\n",
       "      <td>0.999166</td>\n",
       "      <td>SEKER</td>\n",
       "    </tr>\n",
       "  </tbody>\n",
       "</table>\n",
       "</div>"
      ],
      "text/plain": [
       "    Area  Perimeter  MajorAxisLength  MinorAxisLength  AspectRation  \\\n",
       "0  28395    610.291       208.178117       173.888747      1.197191   \n",
       "1  28734    638.018       200.524796       182.734419      1.097356   \n",
       "2  29380    624.110       212.826130       175.931143      1.209713   \n",
       "3  30008    645.884       210.557999       182.516516      1.153638   \n",
       "4  30140    620.134       201.847882       190.279279      1.060798   \n",
       "\n",
       "   Eccentricity  ConvexArea  EquivDiameter    Extent  Solidity  roundness  \\\n",
       "0      0.549812       28715     190.141097  0.763923  0.988856   0.958027   \n",
       "1      0.411785       29172     191.272751  0.783968  0.984986   0.887034   \n",
       "2      0.562727       29690     193.410904  0.778113  0.989559   0.947849   \n",
       "3      0.498616       30724     195.467062  0.782681  0.976696   0.903936   \n",
       "4      0.333680       30417     195.896503  0.773098  0.990893   0.984877   \n",
       "\n",
       "   Compactness  ShapeFactor1  ShapeFactor2  ShapeFactor3  ShapeFactor4  Class  \n",
       "0     0.913358      0.007332      0.003147      0.834222      0.998724  SEKER  \n",
       "1     0.953861      0.006979      0.003564      0.909851      0.998430  SEKER  \n",
       "2     0.908774      0.007244      0.003048      0.825871      0.999066  SEKER  \n",
       "3     0.928329      0.007017      0.003215      0.861794      0.994199  SEKER  \n",
       "4     0.970516      0.006697      0.003665      0.941900      0.999166  SEKER  "
      ]
     },
     "execution_count": 1,
     "metadata": {},
     "output_type": "execute_result"
    }
   ],
   "source": [
    "import pandas as pd\n",
    "import numpy as np\n",
    "data= pd.read_csv(\"./Dry_Bean_Dataset.csv\")\n",
    "data.head()"
   ]
  },
  {
   "cell_type": "markdown",
   "id": "8c86daab",
   "metadata": {
    "papermill": {
     "duration": 0.008527,
     "end_time": "2024-04-14T06:30:45.470610",
     "exception": false,
     "start_time": "2024-04-14T06:30:45.462083",
     "status": "completed"
    },
    "tags": []
   },
   "source": [
    "##### Separating the features (training input parameters) from the target variables (model outputs)."
   ]
  },
  {
   "cell_type": "code",
   "execution_count": 2,
   "id": "a53bdbaa",
   "metadata": {
    "execution": {
     "iopub.execute_input": "2024-04-14T06:30:45.489042Z",
     "iopub.status.busy": "2024-04-14T06:30:45.488631Z",
     "iopub.status.idle": "2024-04-14T06:30:45.500114Z",
     "shell.execute_reply": "2024-04-14T06:30:45.499038Z"
    },
    "papermill": {
     "duration": 0.023732,
     "end_time": "2024-04-14T06:30:45.502625",
     "exception": false,
     "start_time": "2024-04-14T06:30:45.478893",
     "status": "completed"
    },
    "tags": []
   },
   "outputs": [],
   "source": [
    "X = data.iloc[:, :-1].values\n",
    "Y = data.iloc[:, -1].values"
   ]
  },
  {
   "cell_type": "markdown",
   "id": "3b288006",
   "metadata": {
    "papermill": {
     "duration": 0.008012,
     "end_time": "2024-04-14T06:30:45.519135",
     "exception": false,
     "start_time": "2024-04-14T06:30:45.511123",
     "status": "completed"
    },
    "tags": []
   },
   "source": [
    "##### Input Features (Independent)"
   ]
  },
  {
   "cell_type": "code",
   "execution_count": 3,
   "id": "f15ec6e5",
   "metadata": {
    "execution": {
     "iopub.execute_input": "2024-04-14T06:30:45.539488Z",
     "iopub.status.busy": "2024-04-14T06:30:45.538356Z",
     "iopub.status.idle": "2024-04-14T06:30:45.546726Z",
     "shell.execute_reply": "2024-04-14T06:30:45.545252Z"
    },
    "papermill": {
     "duration": 0.02105,
     "end_time": "2024-04-14T06:30:45.549032",
     "exception": false,
     "start_time": "2024-04-14T06:30:45.527982",
     "status": "completed"
    },
    "tags": []
   },
   "outputs": [
    {
     "name": "stdout",
     "output_type": "stream",
     "text": [
      "[[2.83950000e+04 6.10291000e+02 2.08178117e+02 1.73888747e+02\n",
      "  1.19719142e+00 5.49812187e-01 2.87150000e+04 1.90141097e+02\n",
      "  7.63922518e-01 9.88855999e-01 9.58027126e-01 9.13357755e-01\n",
      "  7.33150600e-03 3.14728900e-03 8.34222388e-01 9.98723889e-01]\n",
      " [2.87340000e+04 6.38018000e+02 2.00524796e+02 1.82734419e+02\n",
      "  1.09735646e+00 4.11785251e-01 2.91720000e+04 1.91272751e+02\n",
      "  7.83968133e-01 9.84985603e-01 8.87033637e-01 9.53860842e-01\n",
      "  6.97865900e-03 3.56362400e-03 9.09850506e-01 9.98430331e-01]]\n"
     ]
    }
   ],
   "source": [
    "print(X[0:2])"
   ]
  },
  {
   "cell_type": "markdown",
   "id": "ee810d23",
   "metadata": {
    "papermill": {
     "duration": 0.008315,
     "end_time": "2024-04-14T06:30:45.565921",
     "exception": false,
     "start_time": "2024-04-14T06:30:45.557606",
     "status": "completed"
    },
    "tags": []
   },
   "source": [
    "##### Output Variables (Dependent)"
   ]
  },
  {
   "cell_type": "code",
   "execution_count": 4,
   "id": "d9b1fe0f",
   "metadata": {
    "execution": {
     "iopub.execute_input": "2024-04-14T06:30:45.585251Z",
     "iopub.status.busy": "2024-04-14T06:30:45.584500Z",
     "iopub.status.idle": "2024-04-14T06:30:45.590121Z",
     "shell.execute_reply": "2024-04-14T06:30:45.588789Z"
    },
    "papermill": {
     "duration": 0.018055,
     "end_time": "2024-04-14T06:30:45.592575",
     "exception": false,
     "start_time": "2024-04-14T06:30:45.574520",
     "status": "completed"
    },
    "tags": []
   },
   "outputs": [
    {
     "name": "stdout",
     "output_type": "stream",
     "text": [
      "['SEKER' 'SEKER']\n"
     ]
    }
   ],
   "source": [
    "print(Y[0:2])"
   ]
  },
  {
   "cell_type": "code",
   "execution_count": 5,
   "id": "bfbca6fb",
   "metadata": {
    "execution": {
     "iopub.execute_input": "2024-04-14T06:30:45.612966Z",
     "iopub.status.busy": "2024-04-14T06:30:45.612579Z",
     "iopub.status.idle": "2024-04-14T06:30:47.125553Z",
     "shell.execute_reply": "2024-04-14T06:30:47.124479Z"
    },
    "papermill": {
     "duration": 1.52607,
     "end_time": "2024-04-14T06:30:47.128498",
     "exception": false,
     "start_time": "2024-04-14T06:30:45.602428",
     "status": "completed"
    },
    "tags": []
   },
   "outputs": [],
   "source": [
    "from sklearn.preprocessing import LabelEncoder\n",
    "yLabelEncoder = LabelEncoder()\n",
    "Y = yLabelEncoder.fit_transform(Y)"
   ]
  },
  {
   "cell_type": "markdown",
   "id": "4acdc174",
   "metadata": {
    "papermill": {
     "duration": 0.008252,
     "end_time": "2024-04-14T06:30:47.145923",
     "exception": false,
     "start_time": "2024-04-14T06:30:47.137671",
     "status": "completed"
    },
    "tags": []
   },
   "source": [
    "##### Splitting the dataset into training and testing set in the ratio of 80:20."
   ]
  },
  {
   "cell_type": "code",
   "execution_count": 6,
   "id": "10173fe6",
   "metadata": {
    "execution": {
     "iopub.execute_input": "2024-04-14T06:30:47.166537Z",
     "iopub.status.busy": "2024-04-14T06:30:47.166011Z",
     "iopub.status.idle": "2024-04-14T06:30:47.304740Z",
     "shell.execute_reply": "2024-04-14T06:30:47.303682Z"
    },
    "papermill": {
     "duration": 0.151916,
     "end_time": "2024-04-14T06:30:47.307367",
     "exception": false,
     "start_time": "2024-04-14T06:30:47.155451",
     "status": "completed"
    },
    "tags": []
   },
   "outputs": [],
   "source": [
    "from sklearn.model_selection import train_test_split\n",
    "xTrain, xTest, yTrain, yTest = train_test_split(X, Y, train_size=0.75, random_state=0)"
   ]
  },
  {
   "cell_type": "code",
   "execution_count": 7,
   "id": "bec5de5c",
   "metadata": {
    "execution": {
     "iopub.execute_input": "2024-04-14T06:30:47.326477Z",
     "iopub.status.busy": "2024-04-14T06:30:47.326048Z",
     "iopub.status.idle": "2024-04-14T06:30:47.340662Z",
     "shell.execute_reply": "2024-04-14T06:30:47.339424Z"
    },
    "papermill": {
     "duration": 0.027643,
     "end_time": "2024-04-14T06:30:47.343739",
     "exception": false,
     "start_time": "2024-04-14T06:30:47.316096",
     "status": "completed"
    },
    "tags": []
   },
   "outputs": [],
   "source": [
    "from sklearn.preprocessing import StandardScaler\n",
    "xScale = StandardScaler()\n",
    "xTrain = xScale.fit_transform(xTrain)\n",
    "xTest = xScale.transform(xTest)"
   ]
  },
  {
   "cell_type": "markdown",
   "id": "850f7c70",
   "metadata": {
    "papermill": {
     "duration": 0.008212,
     "end_time": "2024-04-14T06:30:47.360770",
     "exception": false,
     "start_time": "2024-04-14T06:30:47.352558",
     "status": "completed"
    },
    "tags": []
   },
   "source": [
    "##### Standardizing the dataset using standard scaler."
   ]
  },
  {
   "cell_type": "code",
   "execution_count": 8,
   "id": "c37469eb",
   "metadata": {
    "execution": {
     "iopub.execute_input": "2024-04-14T06:30:47.379869Z",
     "iopub.status.busy": "2024-04-14T06:30:47.379425Z",
     "iopub.status.idle": "2024-04-14T06:30:47.392338Z",
     "shell.execute_reply": "2024-04-14T06:30:47.391144Z"
    },
    "papermill": {
     "duration": 0.025756,
     "end_time": "2024-04-14T06:30:47.395147",
     "exception": false,
     "start_time": "2024-04-14T06:30:47.369391",
     "status": "completed"
    },
    "tags": []
   },
   "outputs": [],
   "source": [
    "from sklearn.preprocessing import StandardScaler\n",
    "xScale = StandardScaler()\n",
    "xTrain = xScale.fit_transform(xTrain)\n",
    "xTest = xScale.transform(xTest)"
   ]
  },
  {
   "cell_type": "markdown",
   "id": "e71dc4e2",
   "metadata": {
    "papermill": {
     "duration": 0.008665,
     "end_time": "2024-04-14T06:30:47.412827",
     "exception": false,
     "start_time": "2024-04-14T06:30:47.404162",
     "status": "completed"
    },
    "tags": []
   },
   "source": [
    "##### Initializing and fitting Support Vector Classifier with the training set."
   ]
  },
  {
   "cell_type": "code",
   "execution_count": 9,
   "id": "b474f577",
   "metadata": {
    "execution": {
     "iopub.execute_input": "2024-04-14T06:30:47.434151Z",
     "iopub.status.busy": "2024-04-14T06:30:47.433705Z",
     "iopub.status.idle": "2024-04-14T06:30:49.088919Z",
     "shell.execute_reply": "2024-04-14T06:30:49.087787Z"
    },
    "papermill": {
     "duration": 1.669412,
     "end_time": "2024-04-14T06:30:49.091560",
     "exception": false,
     "start_time": "2024-04-14T06:30:47.422148",
     "status": "completed"
    },
    "tags": []
   },
   "outputs": [
    {
     "data": {
      "text/html": [
       "<style>#sk-container-id-1 {color: black;background-color: white;}#sk-container-id-1 pre{padding: 0;}#sk-container-id-1 div.sk-toggleable {background-color: white;}#sk-container-id-1 label.sk-toggleable__label {cursor: pointer;display: block;width: 100%;margin-bottom: 0;padding: 0.3em;box-sizing: border-box;text-align: center;}#sk-container-id-1 label.sk-toggleable__label-arrow:before {content: \"▸\";float: left;margin-right: 0.25em;color: #696969;}#sk-container-id-1 label.sk-toggleable__label-arrow:hover:before {color: black;}#sk-container-id-1 div.sk-estimator:hover label.sk-toggleable__label-arrow:before {color: black;}#sk-container-id-1 div.sk-toggleable__content {max-height: 0;max-width: 0;overflow: hidden;text-align: left;background-color: #f0f8ff;}#sk-container-id-1 div.sk-toggleable__content pre {margin: 0.2em;color: black;border-radius: 0.25em;background-color: #f0f8ff;}#sk-container-id-1 input.sk-toggleable__control:checked~div.sk-toggleable__content {max-height: 200px;max-width: 100%;overflow: auto;}#sk-container-id-1 input.sk-toggleable__control:checked~label.sk-toggleable__label-arrow:before {content: \"▾\";}#sk-container-id-1 div.sk-estimator input.sk-toggleable__control:checked~label.sk-toggleable__label {background-color: #d4ebff;}#sk-container-id-1 div.sk-label input.sk-toggleable__control:checked~label.sk-toggleable__label {background-color: #d4ebff;}#sk-container-id-1 input.sk-hidden--visually {border: 0;clip: rect(1px 1px 1px 1px);clip: rect(1px, 1px, 1px, 1px);height: 1px;margin: -1px;overflow: hidden;padding: 0;position: absolute;width: 1px;}#sk-container-id-1 div.sk-estimator {font-family: monospace;background-color: #f0f8ff;border: 1px dotted black;border-radius: 0.25em;box-sizing: border-box;margin-bottom: 0.5em;}#sk-container-id-1 div.sk-estimator:hover {background-color: #d4ebff;}#sk-container-id-1 div.sk-parallel-item::after {content: \"\";width: 100%;border-bottom: 1px solid gray;flex-grow: 1;}#sk-container-id-1 div.sk-label:hover label.sk-toggleable__label {background-color: #d4ebff;}#sk-container-id-1 div.sk-serial::before {content: \"\";position: absolute;border-left: 1px solid gray;box-sizing: border-box;top: 0;bottom: 0;left: 50%;z-index: 0;}#sk-container-id-1 div.sk-serial {display: flex;flex-direction: column;align-items: center;background-color: white;padding-right: 0.2em;padding-left: 0.2em;position: relative;}#sk-container-id-1 div.sk-item {position: relative;z-index: 1;}#sk-container-id-1 div.sk-parallel {display: flex;align-items: stretch;justify-content: center;background-color: white;position: relative;}#sk-container-id-1 div.sk-item::before, #sk-container-id-1 div.sk-parallel-item::before {content: \"\";position: absolute;border-left: 1px solid gray;box-sizing: border-box;top: 0;bottom: 0;left: 50%;z-index: -1;}#sk-container-id-1 div.sk-parallel-item {display: flex;flex-direction: column;z-index: 1;position: relative;background-color: white;}#sk-container-id-1 div.sk-parallel-item:first-child::after {align-self: flex-end;width: 50%;}#sk-container-id-1 div.sk-parallel-item:last-child::after {align-self: flex-start;width: 50%;}#sk-container-id-1 div.sk-parallel-item:only-child::after {width: 0;}#sk-container-id-1 div.sk-dashed-wrapped {border: 1px dashed gray;margin: 0 0.4em 0.5em 0.4em;box-sizing: border-box;padding-bottom: 0.4em;background-color: white;}#sk-container-id-1 div.sk-label label {font-family: monospace;font-weight: bold;display: inline-block;line-height: 1.2em;}#sk-container-id-1 div.sk-label-container {text-align: center;}#sk-container-id-1 div.sk-container {/* jupyter's `normalize.less` sets `[hidden] { display: none; }` but bootstrap.min.css set `[hidden] { display: none !important; }` so we also need the `!important` here to be able to override the default hidden behavior on the sphinx rendered scikit-learn.org. See: https://github.com/scikit-learn/scikit-learn/issues/21755 */display: inline-block !important;position: relative;}#sk-container-id-1 div.sk-text-repr-fallback {display: none;}</style><div id=\"sk-container-id-1\" class=\"sk-top-container\"><div class=\"sk-text-repr-fallback\"><pre>XGBClassifier(base_score=None, booster=None, callbacks=None,\n",
       "              colsample_bylevel=None, colsample_bynode=None,\n",
       "              colsample_bytree=None, device=None, early_stopping_rounds=None,\n",
       "              enable_categorical=False, eval_metric=None, feature_types=None,\n",
       "              gamma=None, grow_policy=None, importance_type=None,\n",
       "              interaction_constraints=None, learning_rate=None, max_bin=None,\n",
       "              max_cat_threshold=None, max_cat_to_onehot=None,\n",
       "              max_delta_step=None, max_depth=None, max_leaves=None,\n",
       "              min_child_weight=None, missing=nan, monotone_constraints=None,\n",
       "              multi_strategy=None, n_estimators=None, n_jobs=None,\n",
       "              num_parallel_tree=None, objective=&#x27;multi:softprob&#x27;, ...)</pre><b>In a Jupyter environment, please rerun this cell to show the HTML representation or trust the notebook. <br />On GitHub, the HTML representation is unable to render, please try loading this page with nbviewer.org.</b></div><div class=\"sk-container\" hidden><div class=\"sk-item\"><div class=\"sk-estimator sk-toggleable\"><input class=\"sk-toggleable__control sk-hidden--visually\" id=\"sk-estimator-id-1\" type=\"checkbox\" checked><label for=\"sk-estimator-id-1\" class=\"sk-toggleable__label sk-toggleable__label-arrow\">XGBClassifier</label><div class=\"sk-toggleable__content\"><pre>XGBClassifier(base_score=None, booster=None, callbacks=None,\n",
       "              colsample_bylevel=None, colsample_bynode=None,\n",
       "              colsample_bytree=None, device=None, early_stopping_rounds=None,\n",
       "              enable_categorical=False, eval_metric=None, feature_types=None,\n",
       "              gamma=None, grow_policy=None, importance_type=None,\n",
       "              interaction_constraints=None, learning_rate=None, max_bin=None,\n",
       "              max_cat_threshold=None, max_cat_to_onehot=None,\n",
       "              max_delta_step=None, max_depth=None, max_leaves=None,\n",
       "              min_child_weight=None, missing=nan, monotone_constraints=None,\n",
       "              multi_strategy=None, n_estimators=None, n_jobs=None,\n",
       "              num_parallel_tree=None, objective=&#x27;multi:softprob&#x27;, ...)</pre></div></div></div></div></div>"
      ],
      "text/plain": [
       "XGBClassifier(base_score=None, booster=None, callbacks=None,\n",
       "              colsample_bylevel=None, colsample_bynode=None,\n",
       "              colsample_bytree=None, device=None, early_stopping_rounds=None,\n",
       "              enable_categorical=False, eval_metric=None, feature_types=None,\n",
       "              gamma=None, grow_policy=None, importance_type=None,\n",
       "              interaction_constraints=None, learning_rate=None, max_bin=None,\n",
       "              max_cat_threshold=None, max_cat_to_onehot=None,\n",
       "              max_delta_step=None, max_depth=None, max_leaves=None,\n",
       "              min_child_weight=None, missing=nan, monotone_constraints=None,\n",
       "              multi_strategy=None, n_estimators=None, n_jobs=None,\n",
       "              num_parallel_tree=None, objective='multi:softprob', ...)"
      ]
     },
     "execution_count": 9,
     "metadata": {},
     "output_type": "execute_result"
    }
   ],
   "source": [
    "from xgboost import XGBClassifier\n",
    "model = XGBClassifier()\n",
    "model.fit(xTrain, yTrain)"
   ]
  },
  {
   "cell_type": "markdown",
   "id": "835b4d65",
   "metadata": {
    "papermill": {
     "duration": 0.008771,
     "end_time": "2024-04-14T06:30:49.109336",
     "exception": false,
     "start_time": "2024-04-14T06:30:49.100565",
     "status": "completed"
    },
    "tags": []
   },
   "source": [
    "Applying the k-Fold Cross Validation"
   ]
  },
  {
   "cell_type": "code",
   "execution_count": 10,
   "id": "b1a2bed3",
   "metadata": {
    "execution": {
     "iopub.execute_input": "2024-04-14T06:30:49.129335Z",
     "iopub.status.busy": "2024-04-14T06:30:49.128668Z",
     "iopub.status.idle": "2024-04-14T06:31:02.494590Z",
     "shell.execute_reply": "2024-04-14T06:31:02.493522Z"
    },
    "papermill": {
     "duration": 13.378589,
     "end_time": "2024-04-14T06:31:02.497133",
     "exception": false,
     "start_time": "2024-04-14T06:30:49.118544",
     "status": "completed"
    },
    "tags": []
   },
   "outputs": [
    {
     "name": "stdout",
     "output_type": "stream",
     "text": [
      "Accuracy: 92.37%\n",
      "Standard Deviation: 0.67%\n"
     ]
    }
   ],
   "source": [
    "from sklearn.model_selection import cross_val_score\n",
    "accuracyList = cross_val_score(estimator=model, X=xTrain, y=yTrain, cv=10)\n",
    "print(\"Accuracy: {:.2f}%\".format(accuracyList.mean()*100))\n",
    "print(\"Standard Deviation: {:.2f}%\".format(accuracyList.std()*100))"
   ]
  },
  {
   "cell_type": "markdown",
   "id": "a80a5016",
   "metadata": {
    "papermill": {
     "duration": 0.00878,
     "end_time": "2024-04-14T06:31:02.516655",
     "exception": false,
     "start_time": "2024-04-14T06:31:02.507875",
     "status": "completed"
    },
    "tags": []
   },
   "source": [
    "Applying Grid Search"
   ]
  },
  {
   "cell_type": "code",
   "execution_count": 11,
   "id": "05025ed9",
   "metadata": {
    "execution": {
     "iopub.execute_input": "2024-04-14T06:31:02.536432Z",
     "iopub.status.busy": "2024-04-14T06:31:02.535980Z",
     "iopub.status.idle": "2024-04-14T06:41:16.332871Z",
     "shell.execute_reply": "2024-04-14T06:41:16.331551Z"
    },
    "papermill": {
     "duration": 613.810531,
     "end_time": "2024-04-14T06:41:16.336185",
     "exception": false,
     "start_time": "2024-04-14T06:31:02.525654",
     "status": "completed"
    },
    "tags": []
   },
   "outputs": [],
   "source": [
    "from sklearn.model_selection import GridSearchCV\n",
    "params = [{'max_depth': [3, 5, 7,10], 'n_estimators': [100, 200, 300, 400, 500, 700]}]\n",
    "\n",
    "gridSearch = GridSearchCV(estimator=model, param_grid=params, scoring='accuracy', cv=10, n_jobs=-1)\n",
    "gridResult = gridSearch.fit(xTrain, yTrain)"
   ]
  },
  {
   "cell_type": "code",
   "execution_count": 12,
   "id": "e1cdd96d",
   "metadata": {
    "execution": {
     "iopub.execute_input": "2024-04-14T06:41:16.357197Z",
     "iopub.status.busy": "2024-04-14T06:41:16.356761Z",
     "iopub.status.idle": "2024-04-14T06:41:16.363224Z",
     "shell.execute_reply": "2024-04-14T06:41:16.362199Z"
    },
    "papermill": {
     "duration": 0.019839,
     "end_time": "2024-04-14T06:41:16.365932",
     "exception": false,
     "start_time": "2024-04-14T06:41:16.346093",
     "status": "completed"
    },
    "tags": []
   },
   "outputs": [
    {
     "name": "stdout",
     "output_type": "stream",
     "text": [
      "Best Accuracy: 0.9245686658600757\n",
      "Best Accuracy: {'max_depth': 3, 'n_estimators': 100}\n"
     ]
    }
   ],
   "source": [
    "bestAccuracy = gridResult.best_score_\n",
    "bestParams = gridResult.best_params_\n",
    "print(\"Best Accuracy:\",bestAccuracy)\n",
    "print(\"Best Accuracy:\", bestParams)"
   ]
  },
  {
   "cell_type": "markdown",
   "id": "d8c6f458",
   "metadata": {
    "papermill": {
     "duration": 0.008655,
     "end_time": "2024-04-14T06:41:16.383778",
     "exception": false,
     "start_time": "2024-04-14T06:41:16.375123",
     "status": "completed"
    },
    "tags": []
   },
   "source": [
    "##### Evaluating the model on the testing dataset. [Accuracy, Precision, Recall Score, F1 Score]"
   ]
  },
  {
   "cell_type": "code",
   "execution_count": 13,
   "id": "c08c69e8",
   "metadata": {
    "execution": {
     "iopub.execute_input": "2024-04-14T06:41:16.406108Z",
     "iopub.status.busy": "2024-04-14T06:41:16.405103Z",
     "iopub.status.idle": "2024-04-14T06:41:17.189414Z",
     "shell.execute_reply": "2024-04-14T06:41:17.188442Z"
    },
    "papermill": {
     "duration": 0.798991,
     "end_time": "2024-04-14T06:41:17.192253",
     "exception": false,
     "start_time": "2024-04-14T06:41:16.393262",
     "status": "completed"
    },
    "tags": []
   },
   "outputs": [],
   "source": [
    "modelUpdated =gridResult.best_estimator_\n",
    "modelUpdated.fit(xTrain, yTrain)\n",
    "pred = modelUpdated.predict(xTest)"
   ]
  },
  {
   "cell_type": "code",
   "execution_count": 14,
   "id": "cf9949d3",
   "metadata": {
    "execution": {
     "iopub.execute_input": "2024-04-14T06:41:17.213691Z",
     "iopub.status.busy": "2024-04-14T06:41:17.213304Z",
     "iopub.status.idle": "2024-04-14T06:41:17.238479Z",
     "shell.execute_reply": "2024-04-14T06:41:17.237316Z"
    },
    "papermill": {
     "duration": 0.038507,
     "end_time": "2024-04-14T06:41:17.241212",
     "exception": false,
     "start_time": "2024-04-14T06:41:17.202705",
     "status": "completed"
    },
    "tags": []
   },
   "outputs": [
    {
     "name": "stdout",
     "output_type": "stream",
     "text": [
      "Metric Scores\n",
      "Accuracy: 92.65354099324125\n",
      "Precision: 94.17553626326516\n",
      "Recall: 93.82704434384979\n",
      "f1 Score: [[29400     0  1700     0   100   200   500]\n",
      " [    0 11100     0     0     0     0     0]\n",
      " [  900     0 39800     0   800   100   300]\n",
      " [    0     0     0 84100   200  1400  4800]\n",
      " [  100     0  1100   300 46600     0  1000]\n",
      " [    0     0     0   500     0 44800  1700]\n",
      " [  100     0   400  7600   700   500 59500]]\n"
     ]
    }
   ],
   "source": [
    "from sklearn.metrics import confusion_matrix, ConfusionMatrixDisplay, recall_score, accuracy_score, precision_score, f1_score\n",
    "\n",
    "accuracy = accuracy_score(yTest, pred)\n",
    "presicion = precision_score(yTest, pred, average='macro')\n",
    "recall = recall_score(yTest, pred, average='macro')\n",
    "f1Score = f1_score(yTest, pred, average='macro')\n",
    "confusionMatrix = confusion_matrix(yTest, pred)\n",
    "\n",
    "print(\"Metric Scores\")\n",
    "print(\"Accuracy: \" + str(accuracy*100))\n",
    "print(\"Precision: \" + str(presicion*100))\n",
    "print(\"Recall: \" + str(recall*100))\n",
    "print(\"f1 Score: \" + str(confusionMatrix*100))"
   ]
  },
  {
   "cell_type": "code",
   "execution_count": 15,
   "id": "30b8035a",
   "metadata": {
    "execution": {
     "iopub.execute_input": "2024-04-14T06:41:17.262848Z",
     "iopub.status.busy": "2024-04-14T06:41:17.262232Z",
     "iopub.status.idle": "2024-04-14T06:41:17.270366Z",
     "shell.execute_reply": "2024-04-14T06:41:17.268920Z"
    },
    "papermill": {
     "duration": 0.02156,
     "end_time": "2024-04-14T06:41:17.272702",
     "exception": false,
     "start_time": "2024-04-14T06:41:17.251142",
     "status": "completed"
    },
    "tags": []
   },
   "outputs": [
    {
     "name": "stdout",
     "output_type": "stream",
     "text": [
      "[[294   0  17   0   1   2   5]\n",
      " [  0 111   0   0   0   0   0]\n",
      " [  9   0 398   0   8   1   3]\n",
      " [  0   0   0 841   2  14  48]\n",
      " [  1   0  11   3 466   0  10]\n",
      " [  0   0   0   5   0 448  17]\n",
      " [  1   0   4  76   7   5 595]]\n"
     ]
    }
   ],
   "source": [
    "from sklearn.metrics import confusion_matrix\n",
    "confusionMatrix = confusion_matrix(yTest, pred)\n",
    "print(confusionMatrix)"
   ]
  },
  {
   "cell_type": "code",
   "execution_count": 16,
   "id": "0d0a850c",
   "metadata": {
    "execution": {
     "iopub.execute_input": "2024-04-14T06:41:17.294298Z",
     "iopub.status.busy": "2024-04-14T06:41:17.293565Z",
     "iopub.status.idle": "2024-04-14T06:41:17.866887Z",
     "shell.execute_reply": "2024-04-14T06:41:17.865729Z"
    },
    "papermill": {
     "duration": 0.587381,
     "end_time": "2024-04-14T06:41:17.869681",
     "exception": false,
     "start_time": "2024-04-14T06:41:17.282300",
     "status": "completed"
    },
    "tags": []
   },
   "outputs": [
    {
     "data": {
      "image/png": "[encoded data removed]",
      "text/plain": [
       "<Figure size 640x480 with 2 Axes>"
      ]
     },
     "metadata": {},
     "output_type": "display_data"
    }
   ],
   "source": [
    "from sklearn.metrics import ConfusionMatrixDisplay\n",
    "import matplotlib.pyplot as plt\n",
    "disp = ConfusionMatrixDisplay(confusion_matrix=confusionMatrix)\n",
    "disp.plot()\n",
    "plt.show()\n"
   ]
  }
 ],
 "metadata": {
  "kaggle": {
   "accelerator": "none",
   "dataSources": [
    {
     "datasetId": 4450929,
     "sourceId": 7637558,
     "sourceType": "datasetVersion"
    }
   ],
   "dockerImageVersionId": 30684,
   "isGpuEnabled": false,
   "isInternetEnabled": true,
   "language": "python",
   "sourceType": "notebook"
  },
  "kernelspec": {
   "display_name": "Python 3",
   "language": "python",
   "name": "python3"
  },
  "language_info": {
   "codemirror_mode": {
    "name": "ipython",
    "version": 3
   },
   "file_extension": ".py",
   "mimetype": "text/x-python",
   "name": "python",
   "nbconvert_exporter": "python",
   "pygments_lexer": "ipython3",
   "version": "3.10.13"
  },
  "papermill": {
   "default_parameters": {},
   "duration": 639.595524,
   "end_time": "2024-04-14T06:41:20.503787",
   "environment_variables": {},
   "exception": null,
   "input_path": "__notebook__.ipynb",
   "output_path": "__notebook__.ipynb",
   "parameters": {},
   "start_time": "2024-04-14T06:30:40.908263",
   "version": "2.5.0"
  },
  "vscode": {
   "interpreter": {
    "hash": "d8f522fdcbce347e6597bdb4aa1ccaefc67ecc129fc9374262d86a6a2b486a75"
   }
  }
 },
 "nbformat": 4,
 "nbformat_minor": 5
}
